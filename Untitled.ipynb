{
 "cells": [
  {
   "cell_type": "code",
   "execution_count": 1,
   "id": "a6578131",
   "metadata": {},
   "outputs": [],
   "source": [
    "import os, sys\n",
    "PWD = os.getenv('PWD')\n",
    "os.chdir(PWD)\n",
    "sys.path.insert(0, os.getenv('PWD'))\n",
    "os.environ.setdefault(\"DJANGO_SETTINGS_MODULE\", \"local_settings.py\")\n",
    "os.environ[\"DJANGO_ALLOW_ASYNC_UNSAFE\"] = \"true\"\n",
    "import django\n",
    "django.setup()\n"
   ]
  },
  {
   "cell_type": "code",
   "execution_count": 2,
   "id": "519bb371",
   "metadata": {},
   "outputs": [],
   "source": [
    "from Customers.models import CustomerInformation as customer\n",
    "from Products.models import ProductInformation\n",
    "from Cart.models import ShoppingCart\n"
   ]
  },
  {
   "cell_type": "code",
   "execution_count": 38,
   "id": "0f5a8ce6",
   "metadata": {},
   "outputs": [],
   "source": [
    "import random\n",
    "import string\n",
    "\n",
    "\n",
    "def generateTransID(key_length=25):\n",
    "    key = ''\n",
    "    chars = string.printable[:62]\n",
    "    for i in range(key_length):\n",
    "        key += random.choice(chars)\n",
    "    return key"
   ]
  },
  {
   "cell_type": "code",
   "execution_count": 39,
   "id": "06619ed7",
   "metadata": {},
   "outputs": [
    {
     "data": {
      "text/plain": [
       "'CYHQayiD3wxJTI8Q1wfbiGpsY'"
      ]
     },
     "execution_count": 39,
     "metadata": {},
     "output_type": "execute_result"
    }
   ],
   "source": [
    "generateTransID()"
   ]
  },
  {
   "cell_type": "code",
   "execution_count": 71,
   "id": "090fea56",
   "metadata": {},
   "outputs": [
    {
     "ename": "AttributeError",
     "evalue": "'QuerySet' object has no attribute 'username'",
     "output_type": "error",
     "traceback": [
      "\u001b[0;31m---------------------------------------------------------------------------\u001b[0m",
      "\u001b[0;31mAttributeError\u001b[0m                            Traceback (most recent call last)",
      "Cell \u001b[0;32mIn [71], line 2\u001b[0m\n\u001b[1;32m      1\u001b[0m user \u001b[38;5;241m=\u001b[39m customer\u001b[38;5;241m.\u001b[39mobjects\u001b[38;5;241m.\u001b[39mfilter(username\u001b[38;5;241m=\u001b[39m\u001b[38;5;124m\"\u001b[39m\u001b[38;5;124mmeagnut11\u001b[39m\u001b[38;5;124m\"\u001b[39m)\n\u001b[0;32m----> 2\u001b[0m user\u001b[38;5;241m.\u001b[39musername\n",
      "\u001b[0;31mAttributeError\u001b[0m: 'QuerySet' object has no attribute 'username'"
     ]
    }
   ],
   "source": [
    "user = customer.objects.filter(username=\"meagnut11\")\n",
    "user.username"
   ]
  },
  {
   "cell_type": "code",
   "execution_count": 88,
   "id": "e135473d",
   "metadata": {},
   "outputs": [
    {
     "data": {
      "text/plain": [
       "'Meagan Narvaez'"
      ]
     },
     "execution_count": 88,
     "metadata": {},
     "output_type": "execute_result"
    }
   ],
   "source": [
    "customer.objects.get(username=\"meagnut11\").full_name"
   ]
  },
  {
   "cell_type": "code",
   "execution_count": 61,
   "id": "6ba5e2f7",
   "metadata": {},
   "outputs": [],
   "source": [
    "user = customer.objects.filter(username=\"meagnut11\").update(transaction_id='CYHQayiD3wxJTI8Q1wfbiGpsY')"
   ]
  },
  {
   "cell_type": "code",
   "execution_count": 66,
   "id": "3bc67d14",
   "metadata": {},
   "outputs": [],
   "source": [
    "user = customer.objects.filter(username=\"meagnut11\")"
   ]
  },
  {
   "cell_type": "code",
   "execution_count": 68,
   "id": "8e001c84",
   "metadata": {},
   "outputs": [
    {
     "data": {
      "text/plain": [
       "'CYHQayiD3wxJTI8Q1wfbiGpsY'"
      ]
     },
     "execution_count": 68,
     "metadata": {},
     "output_type": "execute_result"
    }
   ],
   "source": [
    "user[0].transaction_id"
   ]
  },
  {
   "cell_type": "code",
   "execution_count": 40,
   "id": "430f87b9",
   "metadata": {},
   "outputs": [],
   "source": [
    "transaction_id = user[0].transaction_id\n",
    "\n",
    "trans_id = 'CYHQayiD3wxJTI8Q1wfbiGpsY'"
   ]
  },
  {
   "cell_type": "code",
   "execution_count": 37,
   "id": "f1039a4c",
   "metadata": {},
   "outputs": [
    {
     "data": {
      "text/plain": [
       "True"
      ]
     },
     "execution_count": 37,
     "metadata": {},
     "output_type": "execute_result"
    }
   ],
   "source": [
    "trans_id is None"
   ]
  },
  {
   "cell_type": "code",
   "execution_count": 50,
   "id": "646475a1",
   "metadata": {},
   "outputs": [],
   "source": [
    "user[0].transaction_id = 'CYHQayiD3wxJTI8Q1wfbiGpsY'\n",
    "user[0].save()"
   ]
  },
  {
   "cell_type": "code",
   "execution_count": 51,
   "id": "17568b47",
   "metadata": {},
   "outputs": [],
   "source": [
    "user[0].transaction_id"
   ]
  },
  {
   "cell_type": "code",
   "execution_count": 53,
   "id": "667d1f2e",
   "metadata": {},
   "outputs": [
    {
     "ename": "AttributeError",
     "evalue": "'CustomerInformation' object has no attribute 'update'",
     "output_type": "error",
     "traceback": [
      "\u001b[0;31m---------------------------------------------------------------------------\u001b[0m",
      "\u001b[0;31mAttributeError\u001b[0m                            Traceback (most recent call last)",
      "Cell \u001b[0;32mIn [53], line 1\u001b[0m\n\u001b[0;32m----> 1\u001b[0m user[\u001b[38;5;241m0\u001b[39m]\u001b[38;5;241m.\u001b[39mupdate({\u001b[38;5;124m'\u001b[39m\u001b[38;5;124mtransaction_id\u001b[39m\u001b[38;5;124m'\u001b[39m:\u001b[38;5;124m'\u001b[39m\u001b[38;5;124mCYHQayiD3wxJTI8Q1wfbiGpsY\u001b[39m\u001b[38;5;124m'\u001b[39m})\n",
      "\u001b[0;31mAttributeError\u001b[0m: 'CustomerInformation' object has no attribute 'update'"
     ]
    }
   ],
   "source": [
    "user[0].update({'transaction_id':'CYHQayiD3wxJTI8Q1wfbiGpsY'})"
   ]
  },
  {
   "cell_type": "code",
   "execution_count": 55,
   "id": "422f92ce",
   "metadata": {},
   "outputs": [
    {
     "data": {
      "text/plain": [
       "['__bool__',\n",
       " '__class__',\n",
       " '__delattr__',\n",
       " '__dir__',\n",
       " '__doc__',\n",
       " '__eq__',\n",
       " '__format__',\n",
       " '__ge__',\n",
       " '__getattribute__',\n",
       " '__gt__',\n",
       " '__hash__',\n",
       " '__init__',\n",
       " '__init_subclass__',\n",
       " '__le__',\n",
       " '__lt__',\n",
       " '__ne__',\n",
       " '__new__',\n",
       " '__reduce__',\n",
       " '__reduce_ex__',\n",
       " '__repr__',\n",
       " '__setattr__',\n",
       " '__sizeof__',\n",
       " '__str__',\n",
       " '__subclasshook__']"
      ]
     },
     "execution_count": 55,
     "metadata": {},
     "output_type": "execute_result"
    }
   ],
   "source": [
    "dir(user[0].transaction_id)"
   ]
  },
  {
   "cell_type": "code",
   "execution_count": 4,
   "id": "ddf7c3b3",
   "metadata": {},
   "outputs": [],
   "source": [
    "from Customers.models import CustomerInformation as customer"
   ]
  },
  {
   "cell_type": "code",
   "execution_count": 72,
   "id": "eca949e5",
   "metadata": {},
   "outputs": [
    {
     "ename": "NameError",
     "evalue": "name 'ShoppingCart' is not defined",
     "output_type": "error",
     "traceback": [
      "\u001b[0;31m---------------------------------------------------------------------------\u001b[0m",
      "\u001b[0;31mNameError\u001b[0m                                 Traceback (most recent call last)",
      "Cell \u001b[0;32mIn [72], line 1\u001b[0m\n\u001b[0;32m----> 1\u001b[0m ShoppingCart\u001b[38;5;241m.\u001b[39mobject\u001b[38;5;241m.\u001b[39mall()\n",
      "\u001b[0;31mNameError\u001b[0m: name 'ShoppingCart' is not defined"
     ]
    }
   ],
   "source": [
    "\n",
    "    \n",
    "    "
   ]
  },
  {
   "cell_type": "code",
   "execution_count": 27,
   "id": "53e396f6",
   "metadata": {},
   "outputs": [
    {
     "data": {
      "text/plain": [
       "'HG4bUWllJq3UF8TnC0G4L0Fyf'"
      ]
     },
     "execution_count": 27,
     "metadata": {},
     "output_type": "execute_result"
    }
   ],
   "source": [
    "genTransID()\n"
   ]
  },
  {
   "cell_type": "code",
   "execution_count": 14,
   "id": "89a5489e",
   "metadata": {},
   "outputs": [
    {
     "data": {
      "text/plain": [
       "'0123456789abcdefghijklmnopqrstuvwxyzABCDEFGHIJKLMNOPQRSTUVWXYZ'"
      ]
     },
     "execution_count": 14,
     "metadata": {},
     "output_type": "execute_result"
    }
   ],
   "source": [
    "string.printable[:62]"
   ]
  },
  {
   "cell_type": "code",
   "execution_count": 84,
   "id": "ea7190fc",
   "metadata": {},
   "outputs": [
    {
     "name": "stdout",
     "output_type": "stream",
     "text": [
      "yes\n"
     ]
    }
   ],
   "source": [
    "if not ShoppingCart.objects.filter(user_username = 'meagnut11'):\n",
    "    print('yes')"
   ]
  },
  {
   "cell_type": "code",
   "execution_count": 93,
   "id": "63e2bc63",
   "metadata": {},
   "outputs": [],
   "source": [
    "class test:\n",
    "    def __init__(self, number):\n",
    "        self.number = number\n",
    "        \n",
    "    def upd(self, astring, added ):\n",
    "        astring='kdsd'\n",
    "        return self.number\n",
    "        "
   ]
  },
  {
   "cell_type": "code",
   "execution_count": 94,
   "id": "840b5821",
   "metadata": {},
   "outputs": [
    {
     "data": {
      "text/plain": [
       "<__main__.test at 0x7fe2115bfa60>"
      ]
     },
     "execution_count": 94,
     "metadata": {},
     "output_type": "execute_result"
    }
   ],
   "source": [
    "test(5)"
   ]
  },
  {
   "cell_type": "code",
   "execution_count": 95,
   "id": "2c6cb2f6",
   "metadata": {},
   "outputs": [
    {
     "ename": "AttributeError",
     "evalue": "type object 'test' has no attribute 'added'",
     "output_type": "error",
     "traceback": [
      "\u001b[0;31m---------------------------------------------------------------------------\u001b[0m",
      "\u001b[0;31mAttributeError\u001b[0m                            Traceback (most recent call last)",
      "Cell \u001b[0;32mIn [95], line 1\u001b[0m\n\u001b[0;32m----> 1\u001b[0m test\u001b[38;5;241m.\u001b[39madded()\n",
      "\u001b[0;31mAttributeError\u001b[0m: type object 'test' has no attribute 'added'"
     ]
    }
   ],
   "source": [
    "test.added()"
   ]
  },
  {
   "cell_type": "code",
   "execution_count": 116,
   "id": "955fa51d",
   "metadata": {},
   "outputs": [
    {
     "data": {
      "text/plain": [
       "<QuerySet [<ShoppingCart: ShoppingCart object (1)>]>"
      ]
     },
     "execution_count": 116,
     "metadata": {},
     "output_type": "execute_result"
    }
   ],
   "source": [
    "ShoppingCart.objects.all()"
   ]
  },
  {
   "cell_type": "code",
   "execution_count": 120,
   "id": "dc7ea7f9",
   "metadata": {},
   "outputs": [
    {
     "data": {
      "text/plain": [
       "<ShoppingCart: ShoppingCart object (1)>"
      ]
     },
     "execution_count": 120,
     "metadata": {},
     "output_type": "execute_result"
    }
   ],
   "source": [
    "obj = ShoppingCart.objects.all()[0]\n",
    "obj"
   ]
  },
  {
   "cell_type": "code",
   "execution_count": 121,
   "id": "9681bf2a",
   "metadata": {},
   "outputs": [
    {
     "data": {
      "text/plain": [
       "22"
      ]
     },
     "execution_count": 121,
     "metadata": {},
     "output_type": "execute_result"
    }
   ],
   "source": [
    "obj.product_quantity"
   ]
  },
  {
   "cell_type": "code",
   "execution_count": 122,
   "id": "95e96986",
   "metadata": {},
   "outputs": [
    {
     "data": {
      "text/plain": [
       "'Smart Apple watch 3rd gen'"
      ]
     },
     "execution_count": 122,
     "metadata": {},
     "output_type": "execute_result"
    }
   ],
   "source": [
    "obj.product_name"
   ]
  },
  {
   "cell_type": "code",
   "execution_count": 159,
   "id": "442ccccd",
   "metadata": {},
   "outputs": [],
   "source": [
    "prod_qty=1\n",
    "exists_in_cart = ShoppingCart.objects.filter(user_transaction_id='CYHQayiD3wxJTI8Q1wfbiGpsY', product_id =3)"
   ]
  },
  {
   "cell_type": "code",
   "execution_count": 147,
   "id": "7a5a9cf3",
   "metadata": {},
   "outputs": [],
   "source": [
    "if exists_in_cart:\n",
    "    entry_id = \n",
    "    new_qty = exists_in_cart[0].product_quantity + prod_qty"
   ]
  },
  {
   "cell_type": "code",
   "execution_count": 164,
   "id": "70f70d2b",
   "metadata": {},
   "outputs": [
    {
     "data": {
      "text/plain": [
       "3"
      ]
     },
     "execution_count": 164,
     "metadata": {},
     "output_type": "execute_result"
    }
   ],
   "source": [
    "exists_in_car[0].product_id"
   ]
  },
  {
   "cell_type": "code",
   "execution_count": null,
   "id": "6ff64469",
   "metadata": {},
   "outputs": [],
   "source": [
    "prod_exists = ShoppingCart.objects.filter(user_transaction_id='CYHQayiD3wxJTI8Q1wfbiGpsY', product_id =2)\n",
    "if len(prod_exists) > 0:\n",
    "    product = exists_in_cart[0]\n",
    "    new_qty = product.product_quantity + prod_qty\n",
    "    ShoppingCart.objects.filter(user_transaction_id=self.transaction_id, product_id =prod_id).update(product_quantity = new_qty)"
   ]
  },
  {
   "cell_type": "code",
   "execution_count": 179,
   "id": "3f06c556",
   "metadata": {},
   "outputs": [
    {
     "data": {
      "text/plain": [
       "<QuerySet []>"
      ]
     },
     "execution_count": 179,
     "metadata": {},
     "output_type": "execute_result"
    }
   ],
   "source": [
    "prod_exists = ShoppingCart.objects.filter(user_transaction_id='bTRIQtqH5SqlMpKlCqrDKD4sf', product_id =2)\n",
    "prod_exists"
   ]
  },
  {
   "cell_type": "code",
   "execution_count": 172,
   "id": "e5fb9d56",
   "metadata": {},
   "outputs": [
    {
     "name": "stdout",
     "output_type": "stream",
     "text": [
      "yes\n"
     ]
    },
    {
     "ename": "IndexError",
     "evalue": "list index out of range",
     "output_type": "error",
     "traceback": [
      "\u001b[0;31m---------------------------------------------------------------------------\u001b[0m",
      "\u001b[0;31mIndexError\u001b[0m                                Traceback (most recent call last)",
      "Cell \u001b[0;32mIn [172], line 3\u001b[0m\n\u001b[1;32m      1\u001b[0m \u001b[38;5;28;01mif\u001b[39;00m \u001b[38;5;28mlen\u001b[39m(prod_exists) \u001b[38;5;241m>\u001b[39m \u001b[38;5;241m0\u001b[39m:\n\u001b[1;32m      2\u001b[0m     \u001b[38;5;28mprint\u001b[39m(\u001b[38;5;124m'\u001b[39m\u001b[38;5;124myes\u001b[39m\u001b[38;5;124m'\u001b[39m)\n\u001b[0;32m----> 3\u001b[0m     product \u001b[38;5;241m=\u001b[39m exists_in_cart[\u001b[38;5;241m0\u001b[39m]\n\u001b[1;32m      4\u001b[0m     \u001b[38;5;28mprint\u001b[39m(product)\n",
      "File \u001b[0;32m/opt/anaconda3/envs/e-com/lib/python3.10/site-packages/django/db/models/query.py:446\u001b[0m, in \u001b[0;36mQuerySet.__getitem__\u001b[0;34m(self, k)\u001b[0m\n\u001b[1;32m    444\u001b[0m qs\u001b[38;5;241m.\u001b[39mquery\u001b[38;5;241m.\u001b[39mset_limits(k, k \u001b[38;5;241m+\u001b[39m \u001b[38;5;241m1\u001b[39m)\n\u001b[1;32m    445\u001b[0m qs\u001b[38;5;241m.\u001b[39m_fetch_all()\n\u001b[0;32m--> 446\u001b[0m \u001b[38;5;28;01mreturn\u001b[39;00m \u001b[43mqs\u001b[49m\u001b[38;5;241;43m.\u001b[39;49m\u001b[43m_result_cache\u001b[49m\u001b[43m[\u001b[49m\u001b[38;5;241;43m0\u001b[39;49m\u001b[43m]\u001b[49m\n",
      "\u001b[0;31mIndexError\u001b[0m: list index out of range"
     ]
    }
   ],
   "source": [
    "if len(prod_exists) > 0:\n",
    "    print('yes')\n",
    "    product = exists_in_cart[0]\n",
    "    print(product)"
   ]
  },
  {
   "cell_type": "code",
   "execution_count": 155,
   "id": "4d734a61",
   "metadata": {},
   "outputs": [],
   "source": [
    "products = ProductInformation.objects\n",
    "prod_name = products.get(pk=2)"
   ]
  },
  {
   "cell_type": "code",
   "execution_count": 157,
   "id": "f319a3cf",
   "metadata": {},
   "outputs": [
    {
     "data": {
      "text/plain": [
       "'Monterey Thermal T-Shirt'"
      ]
     },
     "execution_count": 157,
     "metadata": {},
     "output_type": "execute_result"
    }
   ],
   "source": [
    "prod_name.name"
   ]
  },
  {
   "cell_type": "code",
   "execution_count": 135,
   "id": "c3bff421",
   "metadata": {},
   "outputs": [
    {
     "data": {
      "text/plain": [
       "<QuerySet [<ProductInformation: Nike shoes for men blue>, <ProductInformation: Monterey Thermal T-Shirt>, <ProductInformation: Smart Apple watch 3rd gen>]>"
      ]
     },
     "execution_count": 135,
     "metadata": {},
     "output_type": "execute_result"
    }
   ],
   "source": [
    "p"
   ]
  },
  {
   "cell_type": "code",
   "execution_count": 137,
   "id": "e5cc7e54",
   "metadata": {},
   "outputs": [
    {
     "name": "stdout",
     "output_type": "stream",
     "text": [
      "1\n",
      "2\n",
      "3\n"
     ]
    }
   ],
   "source": [
    "for i in p:\n",
    "    print(i.id)"
   ]
  },
  {
   "cell_type": "code",
   "execution_count": 177,
   "id": "81b139b2",
   "metadata": {},
   "outputs": [
    {
     "data": {
      "text/plain": [
       "<QuerySet [<CustomerInformation: Gabby Narvaez>]>"
      ]
     },
     "execution_count": 177,
     "metadata": {},
     "output_type": "execute_result"
    }
   ],
   "source": [
    "customer.objects.filter(username='gabbydns')"
   ]
  },
  {
   "cell_type": "code",
   "execution_count": null,
   "id": "b862f232",
   "metadata": {},
   "outputs": [],
   "source": []
  },
  {
   "cell_type": "code",
   "execution_count": 180,
   "id": "71f780ce",
   "metadata": {},
   "outputs": [
    {
     "ename": "MultipleObjectsReturned",
     "evalue": "get() returned more than one ShoppingCart -- it returned 2!",
     "output_type": "error",
     "traceback": [
      "\u001b[0;31m---------------------------------------------------------------------------\u001b[0m",
      "\u001b[0;31mMultipleObjectsReturned\u001b[0m                   Traceback (most recent call last)",
      "Cell \u001b[0;32mIn [180], line 1\u001b[0m\n\u001b[0;32m----> 1\u001b[0m ShoppingCart\u001b[38;5;241m.\u001b[39mobjects\u001b[38;5;241m.\u001b[39mget(user_username\u001b[38;5;241m=\u001b[39m\u001b[38;5;124m'\u001b[39m\u001b[38;5;124mmeagnut11\u001b[39m\u001b[38;5;124m'\u001b[39m)\n",
      "File \u001b[0;32m/opt/anaconda3/envs/e-com/lib/python3.10/site-packages/django/db/models/manager.py:85\u001b[0m, in \u001b[0;36mBaseManager._get_queryset_methods.<locals>.create_method.<locals>.manager_method\u001b[0;34m(self, *args, **kwargs)\u001b[0m\n\u001b[1;32m     84\u001b[0m \u001b[38;5;28;01mdef\u001b[39;00m \u001b[38;5;21mmanager_method\u001b[39m(\u001b[38;5;28mself\u001b[39m, \u001b[38;5;241m*\u001b[39margs, \u001b[38;5;241m*\u001b[39m\u001b[38;5;241m*\u001b[39mkwargs):\n\u001b[0;32m---> 85\u001b[0m     \u001b[38;5;28;01mreturn\u001b[39;00m \u001b[38;5;28;43mgetattr\u001b[39;49m\u001b[43m(\u001b[49m\u001b[38;5;28;43mself\u001b[39;49m\u001b[38;5;241;43m.\u001b[39;49m\u001b[43mget_queryset\u001b[49m\u001b[43m(\u001b[49m\u001b[43m)\u001b[49m\u001b[43m,\u001b[49m\u001b[43m \u001b[49m\u001b[43mname\u001b[49m\u001b[43m)\u001b[49m\u001b[43m(\u001b[49m\u001b[38;5;241;43m*\u001b[39;49m\u001b[43margs\u001b[49m\u001b[43m,\u001b[49m\u001b[43m \u001b[49m\u001b[38;5;241;43m*\u001b[39;49m\u001b[38;5;241;43m*\u001b[39;49m\u001b[43mkwargs\u001b[49m\u001b[43m)\u001b[49m\n",
      "File \u001b[0;32m/opt/anaconda3/envs/e-com/lib/python3.10/site-packages/django/db/models/query.py:653\u001b[0m, in \u001b[0;36mQuerySet.get\u001b[0;34m(self, *args, **kwargs)\u001b[0m\n\u001b[1;32m    649\u001b[0m \u001b[38;5;28;01mif\u001b[39;00m \u001b[38;5;129;01mnot\u001b[39;00m num:\n\u001b[1;32m    650\u001b[0m     \u001b[38;5;28;01mraise\u001b[39;00m \u001b[38;5;28mself\u001b[39m\u001b[38;5;241m.\u001b[39mmodel\u001b[38;5;241m.\u001b[39mDoesNotExist(\n\u001b[1;32m    651\u001b[0m         \u001b[38;5;124m\"\u001b[39m\u001b[38;5;132;01m%s\u001b[39;00m\u001b[38;5;124m matching query does not exist.\u001b[39m\u001b[38;5;124m\"\u001b[39m \u001b[38;5;241m%\u001b[39m \u001b[38;5;28mself\u001b[39m\u001b[38;5;241m.\u001b[39mmodel\u001b[38;5;241m.\u001b[39m_meta\u001b[38;5;241m.\u001b[39mobject_name\n\u001b[1;32m    652\u001b[0m     )\n\u001b[0;32m--> 653\u001b[0m \u001b[38;5;28;01mraise\u001b[39;00m \u001b[38;5;28mself\u001b[39m\u001b[38;5;241m.\u001b[39mmodel\u001b[38;5;241m.\u001b[39mMultipleObjectsReturned(\n\u001b[1;32m    654\u001b[0m     \u001b[38;5;124m\"\u001b[39m\u001b[38;5;124mget() returned more than one \u001b[39m\u001b[38;5;132;01m%s\u001b[39;00m\u001b[38;5;124m -- it returned \u001b[39m\u001b[38;5;132;01m%s\u001b[39;00m\u001b[38;5;124m!\u001b[39m\u001b[38;5;124m\"\u001b[39m\n\u001b[1;32m    655\u001b[0m     \u001b[38;5;241m%\u001b[39m (\n\u001b[1;32m    656\u001b[0m         \u001b[38;5;28mself\u001b[39m\u001b[38;5;241m.\u001b[39mmodel\u001b[38;5;241m.\u001b[39m_meta\u001b[38;5;241m.\u001b[39mobject_name,\n\u001b[1;32m    657\u001b[0m         num \u001b[38;5;28;01mif\u001b[39;00m \u001b[38;5;129;01mnot\u001b[39;00m limit \u001b[38;5;129;01mor\u001b[39;00m num \u001b[38;5;241m<\u001b[39m limit \u001b[38;5;28;01melse\u001b[39;00m \u001b[38;5;124m\"\u001b[39m\u001b[38;5;124mmore than \u001b[39m\u001b[38;5;132;01m%s\u001b[39;00m\u001b[38;5;124m\"\u001b[39m \u001b[38;5;241m%\u001b[39m (limit \u001b[38;5;241m-\u001b[39m \u001b[38;5;241m1\u001b[39m),\n\u001b[1;32m    658\u001b[0m     )\n\u001b[1;32m    659\u001b[0m )\n",
      "\u001b[0;31mMultipleObjectsReturned\u001b[0m: get() returned more than one ShoppingCart -- it returned 2!"
     ]
    }
   ],
   "source": [
    "ShoppingCart.objects.get(user_username='meagnut11')"
   ]
  },
  {
   "cell_type": "code",
   "execution_count": 3,
   "id": "5e983b51",
   "metadata": {},
   "outputs": [
    {
     "data": {
      "text/plain": [
       "<QuerySet [<ShoppingCart: ShoppingCart object (88)>, <ShoppingCart: ShoppingCart object (89)>, <ShoppingCart: ShoppingCart object (90)>]>"
      ]
     },
     "execution_count": 3,
     "metadata": {},
     "output_type": "execute_result"
    }
   ],
   "source": [
    "ShoppingCart.objects.all().filter(user_username='meagnut11')"
   ]
  },
  {
   "cell_type": "code",
   "execution_count": 18,
   "id": "a5e42841",
   "metadata": {},
   "outputs": [],
   "source": [
    "cart_items = ShoppingCart.objects.all().filter(user_transaction_id='CYHQayiD3wxJTI8Q1wfbiGpsY')"
   ]
  },
  {
   "cell_type": "code",
   "execution_count": 22,
   "id": "56fa296b",
   "metadata": {},
   "outputs": [
    {
     "name": "stdout",
     "output_type": "stream",
     "text": [
      "39.99\n",
      "19.99\n",
      "300.0\n"
     ]
    }
   ],
   "source": [
    "for item in cart_items:\n",
    "    print(item.product_price)"
   ]
  },
  {
   "cell_type": "code",
   "execution_count": null,
   "id": "c3066f57",
   "metadata": {},
   "outputs": [],
   "source": []
  }
 ],
 "metadata": {
  "kernelspec": {
   "display_name": "Python 3 (ipykernel)",
   "language": "python",
   "name": "python3"
  },
  "language_info": {
   "codemirror_mode": {
    "name": "ipython",
    "version": 3
   },
   "file_extension": ".py",
   "mimetype": "text/x-python",
   "name": "python",
   "nbconvert_exporter": "python",
   "pygments_lexer": "ipython3",
   "version": "3.10.4"
  }
 },
 "nbformat": 4,
 "nbformat_minor": 5
}
