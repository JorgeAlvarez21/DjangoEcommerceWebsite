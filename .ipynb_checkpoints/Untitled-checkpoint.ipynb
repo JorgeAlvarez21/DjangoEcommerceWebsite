{
 "cells": [
  {
   "cell_type": "code",
   "execution_count": 1,
   "id": "a6578131",
   "metadata": {},
   "outputs": [],
   "source": [
    "import os, sys\n",
    "PWD = os.getenv('PWD')\n",
    "os.chdir(PWD)\n",
    "sys.path.insert(0, os.getenv('PWD'))\n",
    "os.environ.setdefault(\"DJANGO_SETTINGS_MODULE\", \"local_settings.py\")\n",
    "import django\n",
    "django.setup()"
   ]
  },
  {
   "cell_type": "code",
   "execution_count": 25,
   "id": "4e1b2bec",
   "metadata": {},
   "outputs": [],
   "source": [
    "import os\n",
    "import django\n",
    "from django.db.models import Model\n",
    "from django.conf import settings\n",
    "from django.conf.urls.static import static\n",
    "\n",
    "django.setup()"
   ]
  },
  {
   "cell_type": "code",
   "execution_count": 5,
   "id": "6285fd81",
   "metadata": {},
   "outputs": [],
   "source": []
  },
  {
   "cell_type": "code",
   "execution_count": 26,
   "id": "14051d0f",
   "metadata": {},
   "outputs": [],
   "source": [
    "from Products.models import ProductInformation as prod"
   ]
  },
  {
   "cell_type": "code",
   "execution_count": 3,
   "id": "e0039bc6",
   "metadata": {},
   "outputs": [
    {
     "data": {
      "text/plain": [
       "'/Users/jognvz/Projects/ECommerceApp/media'"
      ]
     },
     "execution_count": 3,
     "metadata": {},
     "output_type": "execute_result"
    }
   ],
   "source": [
    "settings.MEDIA_ROOT"
   ]
  },
  {
   "cell_type": "code",
   "execution_count": 9,
   "id": "b7ea9aab",
   "metadata": {},
   "outputs": [
    {
     "data": {
      "text/plain": [
       "'/media/'"
      ]
     },
     "execution_count": 9,
     "metadata": {},
     "output_type": "execute_result"
    }
   ],
   "source": [
    "settings.MEDIA_URL"
   ]
  },
  {
   "cell_type": "code",
   "execution_count": 5,
   "id": "37cddab8",
   "metadata": {},
   "outputs": [],
   "source": [
    "ob = prod.objects.all()"
   ]
  },
  {
   "cell_type": "code",
   "execution_count": 28,
   "id": "e6aed6cf",
   "metadata": {},
   "outputs": [
    {
     "name": "stdout",
     "output_type": "stream",
     "text": [
      "prod-images-logos/a012b1b6-9ba7-482e-b798-43094f699783.jpeg\n",
      "prod-images-logos/istockphoto-1249496770-170667a.jpeg\n"
     ]
    }
   ],
   "source": [
    "for i in ob:\n",
    "    print(i.image)"
   ]
  },
  {
   "cell_type": "code",
   "execution_count": 14,
   "id": "05625e2f",
   "metadata": {},
   "outputs": [
    {
     "ename": "ModuleNotFoundError",
     "evalue": "No module named 'users'",
     "output_type": "error",
     "traceback": [
      "\u001b[0;31m---------------------------------------------------------------------------\u001b[0m",
      "\u001b[0;31mModuleNotFoundError\u001b[0m                       Traceback (most recent call last)",
      "Input \u001b[0;32mIn [14]\u001b[0m, in \u001b[0;36m<cell line: 7>\u001b[0;34m()\u001b[0m\n\u001b[1;32m      4\u001b[0m os\u001b[38;5;241m.\u001b[39menviron[\u001b[38;5;124m\"\u001b[39m\u001b[38;5;124mDJANGO_ALLOW_ASYNC_UNSAFE\u001b[39m\u001b[38;5;124m\"\u001b[39m] \u001b[38;5;241m=\u001b[39m \u001b[38;5;124m\"\u001b[39m\u001b[38;5;124mtrue\u001b[39m\u001b[38;5;124m\"\u001b[39m\n\u001b[1;32m      5\u001b[0m django\u001b[38;5;241m.\u001b[39msetup()\n\u001b[0;32m----> 7\u001b[0m \u001b[38;5;28;01mfrom\u001b[39;00m \u001b[38;5;21;01musers\u001b[39;00m\u001b[38;5;21;01m.\u001b[39;00m\u001b[38;5;21;01mmodels\u001b[39;00m \u001b[38;5;28;01mimport\u001b[39;00m User\n\u001b[1;32m      8\u001b[0m User\u001b[38;5;241m.\u001b[39mobjects\u001b[38;5;241m.\u001b[39mall()\n",
      "\u001b[0;31mModuleNotFoundError\u001b[0m: No module named 'users'"
     ]
    }
   ],
   "source": [
    "\n",
    "    "
   ]
  },
  {
   "cell_type": "code",
   "execution_count": 27,
   "id": "76b9cd18",
   "metadata": {},
   "outputs": [],
   "source": [
    "ob = prod.objects.all()"
   ]
  },
  {
   "cell_type": "code",
   "execution_count": 21,
   "id": "1d8d1a2c",
   "metadata": {},
   "outputs": [
    {
     "data": {
      "text/plain": [
       "<QuerySet [<ProductInformation: Athletic Shoes>]>"
      ]
     },
     "execution_count": 21,
     "metadata": {},
     "output_type": "execute_result"
    }
   ],
   "source": [
    "ob.all()"
   ]
  },
  {
   "cell_type": "code",
   "execution_count": 22,
   "id": "753f6ed1",
   "metadata": {},
   "outputs": [
    {
     "ename": "AttributeError",
     "evalue": "'QuerySet' object has no attribute 'data'",
     "output_type": "error",
     "traceback": [
      "\u001b[0;31m---------------------------------------------------------------------------\u001b[0m",
      "\u001b[0;31mAttributeError\u001b[0m                            Traceback (most recent call last)",
      "Input \u001b[0;32mIn [22]\u001b[0m, in \u001b[0;36m<cell line: 1>\u001b[0;34m()\u001b[0m\n\u001b[0;32m----> 1\u001b[0m \u001b[43mob\u001b[49m\u001b[38;5;241;43m.\u001b[39;49m\u001b[43mdata\u001b[49m()\n",
      "\u001b[0;31mAttributeError\u001b[0m: 'QuerySet' object has no attribute 'data'"
     ]
    }
   ],
   "source": [
    "ob.data()"
   ]
  },
  {
   "cell_type": "code",
   "execution_count": 23,
   "id": "906c554d",
   "metadata": {},
   "outputs": [
    {
     "data": {
      "text/plain": [
       "<ProductInformation: Athletic Shoes>"
      ]
     },
     "execution_count": 23,
     "metadata": {},
     "output_type": "execute_result"
    }
   ],
   "source": [
    "prod.objects.get(id=1)"
   ]
  },
  {
   "cell_type": "code",
   "execution_count": 27,
   "id": "4f6f24a5",
   "metadata": {},
   "outputs": [
    {
     "ename": "TypeError",
     "evalue": "BaseManager.get_queryset() takes 1 positional argument but 2 were given",
     "output_type": "error",
     "traceback": [
      "\u001b[0;31m---------------------------------------------------------------------------\u001b[0m",
      "\u001b[0;31mTypeError\u001b[0m                                 Traceback (most recent call last)",
      "Input \u001b[0;32mIn [27]\u001b[0m, in \u001b[0;36m<cell line: 1>\u001b[0;34m()\u001b[0m\n\u001b[0;32m----> 1\u001b[0m \u001b[43mprod\u001b[49m\u001b[38;5;241;43m.\u001b[39;49m\u001b[43mobjects\u001b[49m\u001b[38;5;241;43m.\u001b[39;49m\u001b[43mget_queryset\u001b[49m\u001b[43m(\u001b[49m\u001b[38;5;124;43m'\u001b[39;49m\u001b[38;5;124;43mAthletic Shoes\u001b[39;49m\u001b[38;5;124;43m'\u001b[39;49m\u001b[43m)\u001b[49m\n",
      "\u001b[0;31mTypeError\u001b[0m: BaseManager.get_queryset() takes 1 positional argument but 2 were given"
     ]
    }
   ],
   "source": [
    "prod.objects.get_queryset('Athletic Shoes')"
   ]
  },
  {
   "cell_type": "code",
   "execution_count": null,
   "id": "78c3346f",
   "metadata": {},
   "outputs": [],
   "source": [
    "    name = models.CharField(max_length=30, null=False)\n",
    "    brand = models.CharField(max_length=30, null=True)\n",
    "    category = models.CharField(max_length=30)\n",
    "    price = models.FloatField(null=False)\n",
    "    on_discount = models.BooleanField(null=True, default=0)\n",
    "    description = models.TextField(null=True)\n",
    "    last_modified = models.DateTimeField(auto_now_add= True)\n",
    "    image = models.ImageField(upload_to=\"prod-images-logos/\", null=True)"
   ]
  },
  {
   "cell_type": "code",
   "execution_count": 29,
   "id": "225c4d8f",
   "metadata": {},
   "outputs": [
    {
     "data": {
      "text/plain": [
       "<django.db.models.query_utils.DeferredAttribute at 0x7f8a71392710>"
      ]
     },
     "execution_count": 29,
     "metadata": {},
     "output_type": "execute_result"
    }
   ],
   "source": [
    "prod.name"
   ]
  },
  {
   "cell_type": "code",
   "execution_count": 43,
   "id": "0234e297",
   "metadata": {},
   "outputs": [
    {
     "data": {
      "text/plain": [
       "<QuerySet [1]>"
      ]
     },
     "execution_count": 43,
     "metadata": {},
     "output_type": "execute_result"
    }
   ],
   "source": [
    "blogs = prod.objects.values_list('id', flat=True)\n",
    "blogs"
   ]
  },
  {
   "cell_type": "code",
   "execution_count": 46,
   "id": "b006387f",
   "metadata": {},
   "outputs": [
    {
     "data": {
      "text/plain": [
       "'Athletic Shoes'"
      ]
     },
     "execution_count": 46,
     "metadata": {},
     "output_type": "execute_result"
    }
   ],
   "source": [
    "prod.objects.get(pk=1).name"
   ]
  },
  {
   "cell_type": "code",
   "execution_count": 49,
   "id": "2c090057",
   "metadata": {},
   "outputs": [
    {
     "data": {
      "text/plain": [
       "<django.db.models.manager.Manager at 0x7f8a50d70160>"
      ]
     },
     "execution_count": 49,
     "metadata": {},
     "output_type": "execute_result"
    }
   ],
   "source": [
    "prod.objects"
   ]
  },
  {
   "cell_type": "code",
   "execution_count": 10,
   "id": "918ae443",
   "metadata": {},
   "outputs": [
    {
     "data": {
      "text/plain": [
       "['ABSOLUTE_URL_OVERRIDES',\n",
       " 'ADMINS',\n",
       " 'ALLOWED_HOSTS',\n",
       " 'APPEND_SLASH',\n",
       " 'AUTHENTICATION_BACKENDS',\n",
       " 'AUTH_PASSWORD_VALIDATORS',\n",
       " 'AUTH_USER_MODEL',\n",
       " 'BASE_DIR',\n",
       " 'CACHES',\n",
       " 'CACHE_MIDDLEWARE_ALIAS',\n",
       " 'CACHE_MIDDLEWARE_KEY_PREFIX',\n",
       " 'CACHE_MIDDLEWARE_SECONDS',\n",
       " 'CSRF_COOKIE_AGE',\n",
       " 'CSRF_COOKIE_DOMAIN',\n",
       " 'CSRF_COOKIE_HTTPONLY',\n",
       " 'CSRF_COOKIE_NAME',\n",
       " 'CSRF_COOKIE_PATH',\n",
       " 'CSRF_COOKIE_SAMESITE',\n",
       " 'CSRF_COOKIE_SECURE',\n",
       " 'CSRF_FAILURE_VIEW',\n",
       " 'CSRF_HEADER_NAME',\n",
       " 'CSRF_TRUSTED_ORIGINS',\n",
       " 'CSRF_USE_SESSIONS',\n",
       " 'DATABASES',\n",
       " 'DATABASE_ROUTERS',\n",
       " 'DATA_UPLOAD_MAX_MEMORY_SIZE',\n",
       " 'DATA_UPLOAD_MAX_NUMBER_FIELDS',\n",
       " 'DATETIME_FORMAT',\n",
       " 'DATETIME_INPUT_FORMATS',\n",
       " 'DATE_FORMAT',\n",
       " 'DATE_INPUT_FORMATS',\n",
       " 'DEBUG',\n",
       " 'DEBUG_PROPAGATE_EXCEPTIONS',\n",
       " 'DECIMAL_SEPARATOR',\n",
       " 'DEFAULT_AUTO_FIELD',\n",
       " 'DEFAULT_CHARSET',\n",
       " 'DEFAULT_EXCEPTION_REPORTER',\n",
       " 'DEFAULT_EXCEPTION_REPORTER_FILTER',\n",
       " 'DEFAULT_FILE_STORAGE',\n",
       " 'DEFAULT_FROM_EMAIL',\n",
       " 'DEFAULT_HASHING_ALGORITHM',\n",
       " 'DEFAULT_INDEX_TABLESPACE',\n",
       " 'DEFAULT_TABLESPACE',\n",
       " 'DISALLOWED_USER_AGENTS',\n",
       " 'EMAIL_BACKEND',\n",
       " 'EMAIL_HOST',\n",
       " 'EMAIL_HOST_PASSWORD',\n",
       " 'EMAIL_HOST_USER',\n",
       " 'EMAIL_PORT',\n",
       " 'EMAIL_SSL_CERTFILE',\n",
       " 'EMAIL_SSL_KEYFILE',\n",
       " 'EMAIL_SUBJECT_PREFIX',\n",
       " 'EMAIL_TIMEOUT',\n",
       " 'EMAIL_USE_LOCALTIME',\n",
       " 'EMAIL_USE_SSL',\n",
       " 'EMAIL_USE_TLS',\n",
       " 'FILE_UPLOAD_DIRECTORY_PERMISSIONS',\n",
       " 'FILE_UPLOAD_HANDLERS',\n",
       " 'FILE_UPLOAD_MAX_MEMORY_SIZE',\n",
       " 'FILE_UPLOAD_PERMISSIONS',\n",
       " 'FILE_UPLOAD_TEMP_DIR',\n",
       " 'FIRST_DAY_OF_WEEK',\n",
       " 'FIXTURE_DIRS',\n",
       " 'FORCE_SCRIPT_NAME',\n",
       " 'FORMAT_MODULE_PATH',\n",
       " 'FORM_RENDERER',\n",
       " 'IGNORABLE_404_URLS',\n",
       " 'INSTALLED_APPS',\n",
       " 'INTERNAL_IPS',\n",
       " 'LANGUAGES',\n",
       " 'LANGUAGES_BIDI',\n",
       " 'LANGUAGE_CODE',\n",
       " 'LANGUAGE_COOKIE_AGE',\n",
       " 'LANGUAGE_COOKIE_DOMAIN',\n",
       " 'LANGUAGE_COOKIE_HTTPONLY',\n",
       " 'LANGUAGE_COOKIE_NAME',\n",
       " 'LANGUAGE_COOKIE_PATH',\n",
       " 'LANGUAGE_COOKIE_SAMESITE',\n",
       " 'LANGUAGE_COOKIE_SECURE',\n",
       " 'LOCALE_PATHS',\n",
       " 'LOGGING',\n",
       " 'LOGGING_CONFIG',\n",
       " 'LOGIN_REDIRECT_URL',\n",
       " 'LOGIN_URL',\n",
       " 'LOGOUT_REDIRECT_URL',\n",
       " 'MANAGERS',\n",
       " 'MEDIA_ROOT',\n",
       " 'MEDIA_URL',\n",
       " 'MESSAGE_STORAGE',\n",
       " 'MIDDLEWARE',\n",
       " 'MIGRATION_MODULES',\n",
       " 'MONTH_DAY_FORMAT',\n",
       " 'NUMBER_GROUPING',\n",
       " 'PASSWORD_HASHERS',\n",
       " 'PASSWORD_RESET_TIMEOUT',\n",
       " 'PASSWORD_RESET_TIMEOUT_DAYS',\n",
       " 'PREPEND_WWW',\n",
       " 'ROOT_URLCONF',\n",
       " 'SECRET_KEY',\n",
       " 'SECURE_BROWSER_XSS_FILTER',\n",
       " 'SECURE_CONTENT_TYPE_NOSNIFF',\n",
       " 'SECURE_HSTS_INCLUDE_SUBDOMAINS',\n",
       " 'SECURE_HSTS_PRELOAD',\n",
       " 'SECURE_HSTS_SECONDS',\n",
       " 'SECURE_PROXY_SSL_HEADER',\n",
       " 'SECURE_REDIRECT_EXEMPT',\n",
       " 'SECURE_REFERRER_POLICY',\n",
       " 'SECURE_SSL_HOST',\n",
       " 'SECURE_SSL_REDIRECT',\n",
       " 'SERVER_EMAIL',\n",
       " 'SESSION_CACHE_ALIAS',\n",
       " 'SESSION_COOKIE_AGE',\n",
       " 'SESSION_COOKIE_DOMAIN',\n",
       " 'SESSION_COOKIE_HTTPONLY',\n",
       " 'SESSION_COOKIE_NAME',\n",
       " 'SESSION_COOKIE_PATH',\n",
       " 'SESSION_COOKIE_SAMESITE',\n",
       " 'SESSION_COOKIE_SECURE',\n",
       " 'SESSION_ENGINE',\n",
       " 'SESSION_EXPIRE_AT_BROWSER_CLOSE',\n",
       " 'SESSION_FILE_PATH',\n",
       " 'SESSION_SAVE_EVERY_REQUEST',\n",
       " 'SESSION_SERIALIZER',\n",
       " 'SETTINGS_MODULE',\n",
       " 'SHORT_DATETIME_FORMAT',\n",
       " 'SHORT_DATE_FORMAT',\n",
       " 'SIGNING_BACKEND',\n",
       " 'SILENCED_SYSTEM_CHECKS',\n",
       " 'STATICFILES_DIRS',\n",
       " 'STATICFILES_FINDERS',\n",
       " 'STATICFILES_STORAGE',\n",
       " 'STATIC_ROOT',\n",
       " 'STATIC_URL',\n",
       " 'TEMPLATES',\n",
       " 'TEST_NON_SERIALIZED_APPS',\n",
       " 'TEST_RUNNER',\n",
       " 'THOUSAND_SEPARATOR',\n",
       " 'TIME_FORMAT',\n",
       " 'TIME_INPUT_FORMATS',\n",
       " 'TIME_ZONE',\n",
       " 'USE_I18N',\n",
       " 'USE_L10N',\n",
       " 'USE_THOUSAND_SEPARATOR',\n",
       " 'USE_TZ',\n",
       " 'USE_X_FORWARDED_HOST',\n",
       " 'USE_X_FORWARDED_PORT',\n",
       " 'WSGI_APPLICATION',\n",
       " 'X_FRAME_OPTIONS',\n",
       " 'YEAR_MONTH_FORMAT',\n",
       " '__class__',\n",
       " '__delattr__',\n",
       " '__dict__',\n",
       " '__dir__',\n",
       " '__doc__',\n",
       " '__eq__',\n",
       " '__format__',\n",
       " '__ge__',\n",
       " '__getattribute__',\n",
       " '__gt__',\n",
       " '__hash__',\n",
       " '__init__',\n",
       " '__init_subclass__',\n",
       " '__le__',\n",
       " '__lt__',\n",
       " '__module__',\n",
       " '__ne__',\n",
       " '__new__',\n",
       " '__reduce__',\n",
       " '__reduce_ex__',\n",
       " '__repr__',\n",
       " '__setattr__',\n",
       " '__sizeof__',\n",
       " '__str__',\n",
       " '__subclasshook__',\n",
       " '__weakref__',\n",
       " '_explicit_settings',\n",
       " 'is_overridden']"
      ]
     },
     "execution_count": 10,
     "metadata": {},
     "output_type": "execute_result"
    }
   ],
   "source": [
    "dir(settings)"
   ]
  },
  {
   "cell_type": "code",
   "execution_count": 11,
   "id": "bc182a85",
   "metadata": {},
   "outputs": [
    {
     "data": {
      "text/plain": [
       "'django.contrib.staticfiles.storage.StaticFilesStorage'"
      ]
     },
     "execution_count": 11,
     "metadata": {},
     "output_type": "execute_result"
    }
   ],
   "source": [
    "settings.STATICFILES_STORAGE"
   ]
  },
  {
   "cell_type": "code",
   "execution_count": 13,
   "id": "bca60c3b",
   "metadata": {},
   "outputs": [
    {
     "data": {
      "text/plain": [
       "['__add__',\n",
       " '__class__',\n",
       " '__contains__',\n",
       " '__delattr__',\n",
       " '__dir__',\n",
       " '__doc__',\n",
       " '__eq__',\n",
       " '__format__',\n",
       " '__ge__',\n",
       " '__getattribute__',\n",
       " '__getitem__',\n",
       " '__getnewargs__',\n",
       " '__gt__',\n",
       " '__hash__',\n",
       " '__init__',\n",
       " '__init_subclass__',\n",
       " '__iter__',\n",
       " '__le__',\n",
       " '__len__',\n",
       " '__lt__',\n",
       " '__mod__',\n",
       " '__mul__',\n",
       " '__ne__',\n",
       " '__new__',\n",
       " '__reduce__',\n",
       " '__reduce_ex__',\n",
       " '__repr__',\n",
       " '__rmod__',\n",
       " '__rmul__',\n",
       " '__setattr__',\n",
       " '__sizeof__',\n",
       " '__str__',\n",
       " '__subclasshook__',\n",
       " 'capitalize',\n",
       " 'casefold',\n",
       " 'center',\n",
       " 'count',\n",
       " 'encode',\n",
       " 'endswith',\n",
       " 'expandtabs',\n",
       " 'find',\n",
       " 'format',\n",
       " 'format_map',\n",
       " 'index',\n",
       " 'isalnum',\n",
       " 'isalpha',\n",
       " 'isascii',\n",
       " 'isdecimal',\n",
       " 'isdigit',\n",
       " 'isidentifier',\n",
       " 'islower',\n",
       " 'isnumeric',\n",
       " 'isprintable',\n",
       " 'isspace',\n",
       " 'istitle',\n",
       " 'isupper',\n",
       " 'join',\n",
       " 'ljust',\n",
       " 'lower',\n",
       " 'lstrip',\n",
       " 'maketrans',\n",
       " 'partition',\n",
       " 'removeprefix',\n",
       " 'removesuffix',\n",
       " 'replace',\n",
       " 'rfind',\n",
       " 'rindex',\n",
       " 'rjust',\n",
       " 'rpartition',\n",
       " 'rsplit',\n",
       " 'rstrip',\n",
       " 'split',\n",
       " 'splitlines',\n",
       " 'startswith',\n",
       " 'strip',\n",
       " 'swapcase',\n",
       " 'title',\n",
       " 'translate',\n",
       " 'upper',\n",
       " 'zfill']"
      ]
     },
     "execution_count": 13,
     "metadata": {},
     "output_type": "execute_result"
    }
   ],
   "source": [
    "dir(settings.STATICFILES_STORAGE)"
   ]
  },
  {
   "cell_type": "code",
   "execution_count": 21,
   "id": "8aadff77",
   "metadata": {},
   "outputs": [
    {
     "ename": "TypeError",
     "evalue": "'function' object is not iterable",
     "output_type": "error",
     "traceback": [
      "\u001b[0;31m---------------------------------------------------------------------------\u001b[0m",
      "\u001b[0;31mTypeError\u001b[0m                                 Traceback (most recent call last)",
      "Input \u001b[0;32mIn [21]\u001b[0m, in \u001b[0;36m<cell line: 1>\u001b[0;34m()\u001b[0m\n\u001b[0;32m----> 1\u001b[0m \u001b[38;5;28;01mfor\u001b[39;00m i \u001b[38;5;129;01min\u001b[39;00m django\u001b[38;5;241m.\u001b[39mcore\u001b[38;5;241m.\u001b[39mfiles\u001b[38;5;241m.\u001b[39mstorage\u001b[38;5;241m.\u001b[39mget_valid_filename:\n\u001b[1;32m      2\u001b[0m     \u001b[38;5;28mprint\u001b[39m(i)\n",
      "\u001b[0;31mTypeError\u001b[0m: 'function' object is not iterable"
     ]
    }
   ],
   "source": [
    "for i in django.core.files.storage.get_valid_filename:\n",
    "    print(i)"
   ]
  },
  {
   "cell_type": "code",
   "execution_count": 23,
   "id": "4011e258",
   "metadata": {},
   "outputs": [
    {
     "data": {
      "text/plain": [
       "['DefaultStorage',\n",
       " 'File',\n",
       " 'FileSystemStorage',\n",
       " 'LazyObject',\n",
       " 'Storage',\n",
       " 'SuspiciousFileOperation',\n",
       " '__all__',\n",
       " '__builtins__',\n",
       " '__cached__',\n",
       " '__doc__',\n",
       " '__file__',\n",
       " '__loader__',\n",
       " '__name__',\n",
       " '__package__',\n",
       " '__spec__',\n",
       " 'cached_property',\n",
       " 'datetime',\n",
       " 'deconstructible',\n",
       " 'default_storage',\n",
       " 'file_move_safe',\n",
       " 'filepath_to_uri',\n",
       " 'get_random_string',\n",
       " 'get_storage_class',\n",
       " 'get_valid_filename',\n",
       " 'import_string',\n",
       " 'locks',\n",
       " 'os',\n",
       " 'pathlib',\n",
       " 'safe_join',\n",
       " 'setting_changed',\n",
       " 'settings',\n",
       " 'timezone',\n",
       " 'urljoin',\n",
       " 'validate_file_name']"
      ]
     },
     "execution_count": 23,
     "metadata": {},
     "output_type": "execute_result"
    }
   ],
   "source": [
    "dir(django.core.files.storage)"
   ]
  },
  {
   "cell_type": "code",
   "execution_count": 24,
   "id": "f8929176",
   "metadata": {},
   "outputs": [
    {
     "data": {
      "text/plain": [
       "<function django.core.files.utils.validate_file_name(name, allow_relative_path=False)>"
      ]
     },
     "execution_count": 24,
     "metadata": {},
     "output_type": "execute_result"
    }
   ],
   "source": [
    "django.core.files.storage.validate_file_name"
   ]
  },
  {
   "cell_type": "code",
   "execution_count": null,
   "id": "225a5ae4",
   "metadata": {},
   "outputs": [],
   "source": []
  }
 ],
 "metadata": {
  "kernelspec": {
   "display_name": "Python 3 (ipykernel)",
   "language": "python",
   "name": "python3"
  },
  "language_info": {
   "codemirror_mode": {
    "name": "ipython",
    "version": 3
   },
   "file_extension": ".py",
   "mimetype": "text/x-python",
   "name": "python",
   "nbconvert_exporter": "python",
   "pygments_lexer": "ipython3",
   "version": "3.10.4"
  }
 },
 "nbformat": 4,
 "nbformat_minor": 5
}
