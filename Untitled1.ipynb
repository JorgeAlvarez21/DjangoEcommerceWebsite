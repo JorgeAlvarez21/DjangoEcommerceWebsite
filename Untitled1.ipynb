{
 "cells": [
  {
   "cell_type": "code",
   "execution_count": 1,
   "id": "5705dc3b",
   "metadata": {},
   "outputs": [],
   "source": [
    "import os, sys\n",
    "PWD = os.getenv('PWD')\n",
    "os.chdir(PWD)\n",
    "sys.path.insert(0, os.getenv('PWD'))\n",
    "os.environ.setdefault(\"DJANGO_SETTINGS_MODULE\", \"local_settings.py\")\n",
    "os.environ[\"DJANGO_ALLOW_ASYNC_UNSAFE\"] = \"true\"\n",
    "import django\n",
    "django.setup()\n",
    "\n",
    "from Customers.models import CustomerInformation\n",
    "from Products.models import ProductInformation\n",
    "from Cart.models import ShoppingCart\n"
   ]
  },
  {
   "cell_type": "code",
   "execution_count": 15,
   "id": "08904b06",
   "metadata": {},
   "outputs": [],
   "source": [
    "products = ProductInformation.objects.all()\n"
   ]
  },
  {
   "cell_type": "code",
   "execution_count": 21,
   "id": "744e7f1d",
   "metadata": {},
   "outputs": [
    {
     "data": {
      "text/plain": [
       "<ImageFieldFile: prod-images/s-l640_QK2bapL.png>"
      ]
     },
     "execution_count": 21,
     "metadata": {},
     "output_type": "execute_result"
    }
   ],
   "source": [
    "products[3].image"
   ]
  },
  {
   "cell_type": "code",
   "execution_count": null,
   "id": "fb654ae8",
   "metadata": {},
   "outputs": [],
   "source": []
  },
  {
   "cell_type": "code",
   "execution_count": null,
   "id": "a50cb925",
   "metadata": {},
   "outputs": [],
   "source": []
  },
  {
   "cell_type": "code",
   "execution_count": null,
   "id": "65012f8b",
   "metadata": {},
   "outputs": [],
   "source": []
  },
  {
   "cell_type": "code",
   "execution_count": null,
   "id": "2fac7853",
   "metadata": {},
   "outputs": [],
   "source": []
  },
  {
   "cell_type": "code",
   "execution_count": null,
   "id": "6aee0f37",
   "metadata": {},
   "outputs": [],
   "source": [
    "prods = product_items.filter(category=category)\n",
    "prods"
   ]
  },
  {
   "cell_type": "code",
   "execution_count": 5,
   "id": "c1ab0add",
   "metadata": {},
   "outputs": [
    {
     "name": "stdout",
     "output_type": "stream",
     "text": [
      "509\n",
      "509\n",
      "513\n"
     ]
    }
   ],
   "source": [
    "for i in products:\n",
    "    print(i.category)"
   ]
  },
  {
   "cell_type": "code",
   "execution_count": 7,
   "id": "2a3af615",
   "metadata": {},
   "outputs": [
    {
     "ename": "AttributeError",
     "evalue": "'int' object has no attribute 'values'",
     "output_type": "error",
     "traceback": [
      "\u001b[0;31m---------------------------------------------------------------------------\u001b[0m",
      "\u001b[0;31mAttributeError\u001b[0m                            Traceback (most recent call last)",
      "Cell \u001b[0;32mIn [7], line 38\u001b[0m\n\u001b[1;32m      1\u001b[0m categories_names \u001b[38;5;241m=\u001b[39m {\u001b[38;5;241m501\u001b[39m: \u001b[38;5;124m'\u001b[39m\u001b[38;5;124mAll Categories\u001b[39m\u001b[38;5;124m'\u001b[39m,\n\u001b[1;32m      2\u001b[0m                    \u001b[38;5;241m502\u001b[39m: \u001b[38;5;124m'\u001b[39m\u001b[38;5;124mAntiques\u001b[39m\u001b[38;5;124m'\u001b[39m,\n\u001b[1;32m      3\u001b[0m                    \u001b[38;5;241m503\u001b[39m: \u001b[38;5;124m'\u001b[39m\u001b[38;5;124mArt\u001b[39m\u001b[38;5;124m'\u001b[39m,\n\u001b[0;32m   (...)\u001b[0m\n\u001b[1;32m     35\u001b[0m                    \u001b[38;5;241m535\u001b[39m: \u001b[38;5;124m'\u001b[39m\u001b[38;5;124mVideo Games; Consoles\u001b[39m\u001b[38;5;124m'\u001b[39m,\n\u001b[1;32m     36\u001b[0m                    \u001b[38;5;241m536\u001b[39m: \u001b[38;5;124m'\u001b[39m\u001b[38;5;124mEverything Else\u001b[39m\u001b[38;5;124m'\u001b[39m}\n\u001b[0;32m---> 38\u001b[0m categories_list \u001b[38;5;241m=\u001b[39m [x\u001b[38;5;241m.\u001b[39mvalues() \u001b[38;5;28;01mfor\u001b[39;00m x \u001b[38;5;129;01min\u001b[39;00m categories_names]\n\u001b[1;32m     39\u001b[0m categories_list\n",
      "Cell \u001b[0;32mIn [7], line 38\u001b[0m, in \u001b[0;36m<listcomp>\u001b[0;34m(.0)\u001b[0m\n\u001b[1;32m      1\u001b[0m categories_names \u001b[38;5;241m=\u001b[39m {\u001b[38;5;241m501\u001b[39m: \u001b[38;5;124m'\u001b[39m\u001b[38;5;124mAll Categories\u001b[39m\u001b[38;5;124m'\u001b[39m,\n\u001b[1;32m      2\u001b[0m                    \u001b[38;5;241m502\u001b[39m: \u001b[38;5;124m'\u001b[39m\u001b[38;5;124mAntiques\u001b[39m\u001b[38;5;124m'\u001b[39m,\n\u001b[1;32m      3\u001b[0m                    \u001b[38;5;241m503\u001b[39m: \u001b[38;5;124m'\u001b[39m\u001b[38;5;124mArt\u001b[39m\u001b[38;5;124m'\u001b[39m,\n\u001b[0;32m   (...)\u001b[0m\n\u001b[1;32m     35\u001b[0m                    \u001b[38;5;241m535\u001b[39m: \u001b[38;5;124m'\u001b[39m\u001b[38;5;124mVideo Games; Consoles\u001b[39m\u001b[38;5;124m'\u001b[39m,\n\u001b[1;32m     36\u001b[0m                    \u001b[38;5;241m536\u001b[39m: \u001b[38;5;124m'\u001b[39m\u001b[38;5;124mEverything Else\u001b[39m\u001b[38;5;124m'\u001b[39m}\n\u001b[0;32m---> 38\u001b[0m categories_list \u001b[38;5;241m=\u001b[39m [\u001b[43mx\u001b[49m\u001b[38;5;241;43m.\u001b[39;49m\u001b[43mvalues\u001b[49m() \u001b[38;5;28;01mfor\u001b[39;00m x \u001b[38;5;129;01min\u001b[39;00m categories_names]\n\u001b[1;32m     39\u001b[0m categories_list\n",
      "\u001b[0;31mAttributeError\u001b[0m: 'int' object has no attribute 'values'"
     ]
    }
   ],
   "source": [
    "categories_names = {501: 'All Categories',\n",
    "                   502: 'Antiques',\n",
    "                   503: 'Art',\n",
    "                   504: 'Baby',\n",
    "                   505: 'Books',\n",
    "                   506: 'Business; Industrial',\n",
    "                   507: 'Cameras; Photo',\n",
    "                   508: 'Cell Phones; Accessories',\n",
    "                   509: 'Clothing, Shoes; Accessories',\n",
    "                   510: 'Coins; Paper Money',\n",
    "                   511: 'Collectibles',\n",
    "                   512: 'Computers/Tablets; Networking',\n",
    "                   513: 'Consumer Electronics',\n",
    "                   514: 'Crafts',\n",
    "                   515: 'Dolls; Bears',\n",
    "                   516: 'DVDs; Movies',\n",
    "                   517: 'Motors',\n",
    "                   518: 'Entertainment Memorabilia',\n",
    "                   519: 'Gift Cards; Coupons',\n",
    "                   520: 'Health; Beauty',\n",
    "                   521: 'Home; Garden',\n",
    "                   522: 'Jewelry; Watches',\n",
    "                   523: 'Music',\n",
    "                   524: 'Musical Instruments; Gear',\n",
    "                   525: 'Pet Supplies',\n",
    "                   526: 'Pottery; Glass',\n",
    "                   527: 'Real Estate',\n",
    "                   528: 'Specialty Services',\n",
    "                   529: 'Sporting Goods',\n",
    "                   530: 'Sports Mem, Cards; Fan Shop',\n",
    "                   531: 'Stamps',\n",
    "                   532: 'Tickets; Experiences',\n",
    "                   533: 'Toys; Hobbies',\n",
    "                   534: 'Travel',\n",
    "                   535: 'Video Games; Consoles',\n",
    "                   536: 'Everything Else'}\n",
    "\n"
   ]
  },
  {
   "cell_type": "code",
   "execution_count": 9,
   "id": "9c0c7ca8",
   "metadata": {},
   "outputs": [
    {
     "data": {
      "text/plain": [
       "dict_values(['All Categories', 'Antiques', 'Art', 'Baby', 'Books', 'Business; Industrial', 'Cameras; Photo', 'Cell Phones; Accessories', 'Clothing, Shoes; Accessories', 'Coins; Paper Money', 'Collectibles', 'Computers/Tablets; Networking', 'Consumer Electronics', 'Crafts', 'Dolls; Bears', 'DVDs; Movies', 'Motors', 'Entertainment Memorabilia', 'Gift Cards; Coupons', 'Health; Beauty', 'Home; Garden', 'Jewelry; Watches', 'Music', 'Musical Instruments; Gear', 'Pet Supplies', 'Pottery; Glass', 'Real Estate', 'Specialty Services', 'Sporting Goods', 'Sports Mem, Cards; Fan Shop', 'Stamps', 'Tickets; Experiences', 'Toys; Hobbies', 'Travel', 'Video Games; Consoles', 'Everything Else'])"
      ]
     },
     "execution_count": 9,
     "metadata": {},
     "output_type": "execute_result"
    }
   ],
   "source": [
    "categories_names.values()\n",
    "\n"
   ]
  },
  {
   "cell_type": "code",
   "execution_count": 12,
   "id": "f3aee16c",
   "metadata": {},
   "outputs": [
    {
     "name": "stdout",
     "output_type": "stream",
     "text": [
      "None\n"
     ]
    }
   ],
   "source": [
    "e = categories_names.get('Art')\n",
    "print(e)"
   ]
  },
  {
   "cell_type": "code",
   "execution_count": 14,
   "id": "c18c9323",
   "metadata": {},
   "outputs": [
    {
     "data": {
      "text/plain": [
       "503"
      ]
     },
     "execution_count": 14,
     "metadata": {},
     "output_type": "execute_result"
    }
   ],
   "source": [
    "list(categories_names.keys())[list(categories_names.values()).index('Art')]"
   ]
  },
  {
   "cell_type": "code",
   "execution_count": 44,
   "id": "a67ccbe9",
   "metadata": {},
   "outputs": [],
   "source": [
    "text = 'shoes for men blue nike'\n",
    "\n",
    "def search_text(text, products):\n",
    "    text = text.split(' ')\n",
    "    dictProds = {product.id:product.name.split(' ') for product in products}\n",
    "    equality = {}\n",
    "    matching_products = []\n",
    "    for k, v in dictProds.items():\n",
    "        v = [val.lower() for val in v]\n",
    "        dictProds[k] = v\n",
    "    \n",
    "    for i, w2 in dictProds.items():\n",
    "        count = 0\n",
    "        for w1 in text:\n",
    "            if w1.lower() in w2:\n",
    "                count += 1\n",
    "        if count > 0:\n",
    "            equality[i] = count\n",
    "                \n",
    "    if equality:\n",
    "        for index in equality.keys():\n",
    "            p = products.get(pk=index)\n",
    "            matching_products.append(p)\n",
    "        return matching_products\n",
    "    return list()\n",
    "\n",
    "    \n",
    "    "
   ]
  },
  {
   "cell_type": "code",
   "execution_count": null,
   "id": "b77ccfeb",
   "metadata": {},
   "outputs": [],
   "source": [
    "def search_category(category, products):"
   ]
  },
  {
   "cell_type": "code",
   "execution_count": 46,
   "id": "6b4e9726",
   "metadata": {},
   "outputs": [
    {
     "data": {
      "text/plain": [
       "[]"
      ]
     },
     "execution_count": 46,
     "metadata": {},
     "output_type": "execute_result"
    }
   ],
   "source": [
    "search_text('thermal', products)"
   ]
  },
  {
   "cell_type": "code",
   "execution_count": 16,
   "id": "91aa4b7f",
   "metadata": {},
   "outputs": [
    {
     "name": "stdout",
     "output_type": "stream",
     "text": [
      "{1: 4}\n"
     ]
    }
   ],
   "source": [
    "text = 'shoes for men blue nike'\n",
    "t = text.split(' ')\n",
    "\n",
    "equality = {}\n",
    "\n",
    "\n",
    "for i, w2 in d.items():\n",
    "    count = 0\n",
    "    for w1 in t:\n",
    "        if w1 in w2:\n",
    "            count += 1\n",
    "    if count > 0:\n",
    "            equality[i] = count\n",
    "            \n",
    "\n",
    "print(equality)\n",
    "    \n",
    "         "
   ]
  },
  {
   "cell_type": "code",
   "execution_count": 20,
   "id": "25603de7",
   "metadata": {},
   "outputs": [],
   "source": [
    "eq = {1: 4, 2:2, 3:7}"
   ]
  },
  {
   "cell_type": "code",
   "execution_count": 25,
   "id": "e52ccfa1",
   "metadata": {},
   "outputs": [],
   "source": [
    "eq = {k: v for k, v in sorted(eq.items(), key=lambda item: item[1], reverse=True)}"
   ]
  },
  {
   "cell_type": "code",
   "execution_count": 29,
   "id": "d79c9b83",
   "metadata": {},
   "outputs": [
    {
     "ename": "SyntaxError",
     "evalue": "invalid syntax (2119810481.py, line 3)",
     "output_type": "error",
     "traceback": [
      "\u001b[0;36m  Cell \u001b[0;32mIn [29], line 3\u001b[0;36m\u001b[0m\n\u001b[0;31m    print(p.)\u001b[0m\n\u001b[0m            ^\u001b[0m\n\u001b[0;31mSyntaxError\u001b[0m\u001b[0;31m:\u001b[0m invalid syntax\n"
     ]
    }
   ],
   "source": []
  },
  {
   "cell_type": "code",
   "execution_count": 9,
   "id": "156b1c58",
   "metadata": {},
   "outputs": [
    {
     "data": {
      "text/plain": [
       "dict_items([(1, ['Nike', 'shoes', 'for', 'men', 'blue']), (2, ['Monterey', 'Thermal', 'T-Shirt']), (3, ['Smart', 'Apple', 'watch', '3rd', 'gen'])])"
      ]
     },
     "execution_count": 9,
     "metadata": {},
     "output_type": "execute_result"
    }
   ],
   "source": [
    "d.items()\n",
    "\n"
   ]
  },
  {
   "cell_type": "code",
   "execution_count": 30,
   "id": "77d3c042",
   "metadata": {},
   "outputs": [
    {
     "data": {
      "text/plain": [
       "<QuerySet [<ProductInformation: Nike shoes for men blue>, <ProductInformation: Monterey Thermal T-Shirt>, <ProductInformation: Smart Apple watch 3rd gen>]>"
      ]
     },
     "execution_count": 30,
     "metadata": {},
     "output_type": "execute_result"
    }
   ],
   "source": [
    "ProductInformation.objects.all()"
   ]
  },
  {
   "cell_type": "code",
   "execution_count": null,
   "id": "89209ab6",
   "metadata": {},
   "outputs": [],
   "source": []
  }
 ],
 "metadata": {
  "kernelspec": {
   "display_name": "Django Shell-Plus",
   "language": "python",
   "name": "django_extensions"
  },
  "language_info": {
   "codemirror_mode": {
    "name": "ipython",
    "version": 3
   },
   "file_extension": ".py",
   "mimetype": "text/x-python",
   "name": "python",
   "nbconvert_exporter": "python",
   "pygments_lexer": "ipython3",
   "version": "3.10.4"
  }
 },
 "nbformat": 4,
 "nbformat_minor": 5
}
